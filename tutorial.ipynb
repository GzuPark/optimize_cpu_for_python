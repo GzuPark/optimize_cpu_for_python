{
 "cells": [
  {
   "cell_type": "code",
   "execution_count": 1,
   "id": "4433cef6-19f9-4041-9b0e-31db8947d123",
   "metadata": {
    "tags": []
   },
   "outputs": [],
   "source": [
    "import os"
   ]
  },
  {
   "cell_type": "code",
   "execution_count": 2,
   "id": "9a196f78-5733-4194-8b60-6f1a341e1af8",
   "metadata": {
    "tags": []
   },
   "outputs": [],
   "source": [
    "from extract_color import (\n",
    "    extract_main_colors_naive,\n",
    "    extract_main_colors_fast,\n",
    "    extract_main_colors_faster,\n",
    "    extract_main_colors_cython,\n",
    ")"
   ]
  },
  {
   "cell_type": "code",
   "execution_count": 3,
   "id": "a9aa5ee7-389c-4902-878e-6c71a53c229f",
   "metadata": {
    "tags": []
   },
   "outputs": [],
   "source": [
    "image_path = os.path.join(\"assets\", \"image.png\")"
   ]
  },
  {
   "cell_type": "code",
   "execution_count": 4,
   "id": "2fe51082-b24e-460f-bb82-eabdc44ecb1d",
   "metadata": {
    "tags": []
   },
   "outputs": [
    {
     "name": "stdout",
     "output_type": "stream",
     "text": [
      "11.3 ms ± 93.1 µs per loop (mean ± std. dev. of 5 runs, 100 loops each)\n"
     ]
    }
   ],
   "source": [
    "%timeit -r 5 -n 100 extract_main_colors_naive(image_path)"
   ]
  },
  {
   "cell_type": "code",
   "execution_count": 5,
   "id": "0decd8e0-8c37-417b-99d1-78dc617155d3",
   "metadata": {
    "tags": []
   },
   "outputs": [
    {
     "name": "stdout",
     "output_type": "stream",
     "text": [
      "8.91 ms ± 173 µs per loop (mean ± std. dev. of 5 runs, 100 loops each)\n"
     ]
    }
   ],
   "source": [
    "%timeit -r 5 -n 100 extract_main_colors_fast(image_path)"
   ]
  },
  {
   "cell_type": "code",
   "execution_count": 6,
   "id": "c50e3b80-558d-44f6-80e8-1deb803eaa46",
   "metadata": {
    "tags": []
   },
   "outputs": [
    {
     "name": "stdout",
     "output_type": "stream",
     "text": [
      "7.07 ms ± 87.2 µs per loop (mean ± std. dev. of 5 runs, 100 loops each)\n"
     ]
    }
   ],
   "source": [
    "%timeit -r 5 -n 100 extract_main_colors_faster(image_path)"
   ]
  },
  {
   "cell_type": "code",
   "execution_count": 7,
   "id": "d324ddb9-0781-41d0-94de-15e8064cfc5d",
   "metadata": {
    "tags": []
   },
   "outputs": [
    {
     "name": "stdout",
     "output_type": "stream",
     "text": [
      "9.86 ms ± 300 µs per loop (mean ± std. dev. of 5 runs, 100 loops each)\n"
     ]
    }
   ],
   "source": [
    "%timeit -r 5 -n 100 extract_main_colors_cython(image_path)"
   ]
  },
  {
   "cell_type": "code",
   "execution_count": 8,
   "id": "e37c17d6-ece3-4eb8-9a75-dc7422f261bc",
   "metadata": {
    "tags": []
   },
   "outputs": [],
   "source": [
    "from utils import create_bboxes, create_image\n",
    "\n",
    "from image_crop import (\n",
    "    image_crop_python,\n",
    "    image_crop_cpp,\n",
    "    image_crop_cpp_omp,\n",
    ")"
   ]
  },
  {
   "cell_type": "code",
   "execution_count": 9,
   "id": "151a375b-4f66-4eb6-8cb2-67f0bf5f3e1a",
   "metadata": {
    "tags": []
   },
   "outputs": [],
   "source": [
    "random_seed = 42\n",
    "h = 3508\n",
    "w = 2480\n",
    "num_bboxes = 1528"
   ]
  },
  {
   "cell_type": "code",
   "execution_count": 10,
   "id": "d1088bba-58a3-4e41-8d09-064fa47bb4d6",
   "metadata": {
    "tags": []
   },
   "outputs": [],
   "source": [
    "image = create_image(height=h, width=w, seed=random_seed)\n",
    "bboxes = create_bboxes(num_bboxes=num_bboxes, max_height=h, max_width=w, seed=random_seed)"
   ]
  },
  {
   "cell_type": "code",
   "execution_count": 11,
   "id": "5b1ced1b-a777-489c-94af-d9d0ead85fd4",
   "metadata": {
    "tags": []
   },
   "outputs": [
    {
     "name": "stdout",
     "output_type": "stream",
     "text": [
      "39.5 ms ± 468 µs per loop (mean ± std. dev. of 5 runs, 100 loops each)\n"
     ]
    }
   ],
   "source": [
    "%timeit -r 5 -n 100 image_crop_python(image, bboxes)"
   ]
  },
  {
   "cell_type": "code",
   "execution_count": 12,
   "id": "10103406-3a45-4b30-86f7-e0db0e0c2282",
   "metadata": {
    "tags": []
   },
   "outputs": [
    {
     "name": "stdout",
     "output_type": "stream",
     "text": [
      "18.1 ms ± 350 µs per loop (mean ± std. dev. of 5 runs, 100 loops each)\n"
     ]
    }
   ],
   "source": [
    "%timeit -r 5 -n 100 image_crop_cpp(image, bboxes)"
   ]
  },
  {
   "cell_type": "code",
   "execution_count": 13,
   "id": "f863d773-25d4-4a59-9df9-8ecc12cc7a00",
   "metadata": {
    "tags": []
   },
   "outputs": [
    {
     "name": "stdout",
     "output_type": "stream",
     "text": [
      "5.91 ms ± 42.2 µs per loop (mean ± std. dev. of 5 runs, 100 loops each)\n"
     ]
    }
   ],
   "source": [
    "%timeit -r 5 -n 100 image_crop_cpp_omp(image, bboxes)"
   ]
  }
 ],
 "metadata": {
  "kernelspec": {
   "display_name": "Python 3 (ipykernel)",
   "language": "python",
   "name": "python3"
  },
  "language_info": {
   "codemirror_mode": {
    "name": "ipython",
    "version": 3
   },
   "file_extension": ".py",
   "mimetype": "text/x-python",
   "name": "python",
   "nbconvert_exporter": "python",
   "pygments_lexer": "ipython3",
   "version": "3.11.1"
  }
 },
 "nbformat": 4,
 "nbformat_minor": 5
}
